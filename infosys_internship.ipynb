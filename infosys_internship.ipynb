{
  "nbformat": 4,
  "nbformat_minor": 0,
  "metadata": {
    "colab": {
      "provenance": []
    },
    "kernelspec": {
      "name": "python3",
      "display_name": "Python 3"
    },
    "language_info": {
      "name": "python"
    }
  },
  "cells": [
    {
      "cell_type": "code",
      "execution_count": null,
      "metadata": {
        "colab": {
          "base_uri": "https://localhost:8080/"
        },
        "id": "MpapeYH9-cLO",
        "outputId": "dad48eba-83ee-4d2d-addf-9799f4f3fbc9"
      },
      "outputs": [
        {
          "output_type": "stream",
          "name": "stdout",
          "text": [
            "Path to dataset files: /kaggle/input/customer-analytics\n"
          ]
        }
      ],
      "source": [
        "import pandas as pd\n",
        "import kagglehub\n",
        "path = kagglehub.dataset_download(\"prachi13/customer-analytics\")\n",
        "\n",
        "print(\"Path to dataset files:\", path)"
      ]
    },
    {
      "cell_type": "code",
      "source": [
        "\n",
        "import kagglehub\n",
        "from kagglehub import KaggleDatasetAdapter\n",
        "\n",
        "a= kagglehub.dataset_load(\n",
        "    KaggleDatasetAdapter.PANDAS,\n",
        "    \"prachi13/customer-analytics\",\n",
        "    \"Train.csv\",\n",
        ")\n",
        "print(a.head())"
      ],
      "metadata": {
        "colab": {
          "base_uri": "https://localhost:8080/"
        },
        "id": "DeTu9I1V-3zT",
        "outputId": "b4174c68-15e1-488d-cecc-3e5827c2ad26"
      },
      "execution_count": null,
      "outputs": [
        {
          "output_type": "stream",
          "name": "stdout",
          "text": [
            "   ID Warehouse_block Mode_of_Shipment  Customer_care_calls  Customer_rating  \\\n",
            "0   1               D           Flight                    4                2   \n",
            "1   2               F           Flight                    4                5   \n",
            "2   3               A           Flight                    2                2   \n",
            "3   4               B           Flight                    3                3   \n",
            "4   5               C           Flight                    2                2   \n",
            "\n",
            "   Cost_of_the_Product  Prior_purchases Product_importance Gender  \\\n",
            "0                  177                3                low      F   \n",
            "1                  216                2                low      M   \n",
            "2                  183                4                low      M   \n",
            "3                  176                4             medium      M   \n",
            "4                  184                3             medium      F   \n",
            "\n",
            "   Discount_offered  Weight_in_gms  Reached.on.Time_Y.N  \n",
            "0                44           1233                    1  \n",
            "1                59           3088                    1  \n",
            "2                48           3374                    1  \n",
            "3                10           1177                    1  \n",
            "4                46           2484                    1  \n"
          ]
        }
      ]
    },
    {
      "cell_type": "code",
      "source": [
        "on_time_rates = a.groupby('Mode_of_Shipment')['Reached.on.Time_Y.N'].mean().sort_values(ascending=False)\n",
        "print(on_time_rates)"
      ],
      "metadata": {
        "colab": {
          "base_uri": "https://localhost:8080/"
        },
        "id": "zvhVtB1v_IH_",
        "outputId": "b04d44ad-2736-49d8-ef38-11a288d43d2b"
      },
      "execution_count": null,
      "outputs": [
        {
          "output_type": "stream",
          "name": "stdout",
          "text": [
            "Mode_of_Shipment\n",
            "Flight    0.601576\n",
            "Ship      0.597561\n",
            "Road      0.588068\n",
            "Name: Reached.on.Time_Y.N, dtype: float64\n"
          ]
        }
      ]
    },
    {
      "cell_type": "code",
      "source": [
        "rating_vs_calls = a.groupby('Customer_care_calls')['Customer_rating'].mean()\n",
        "print(rating_vs_calls)"
      ],
      "metadata": {
        "colab": {
          "base_uri": "https://localhost:8080/"
        },
        "id": "isG6Z991_pRO",
        "outputId": "611274d6-8dd4-4716-9e8a-e63077a3a43d"
      },
      "execution_count": null,
      "outputs": [
        {
          "output_type": "stream",
          "name": "stdout",
          "text": [
            "Customer_care_calls\n",
            "2    3.017241\n",
            "3    2.959901\n",
            "4    2.998032\n",
            "5    2.972938\n",
            "6    3.083909\n",
            "7    2.995935\n",
            "Name: Customer_rating, dtype: float64\n"
          ]
        }
      ]
    },
    {
      "cell_type": "code",
      "source": [
        "correlation = a['Weight_in_gms'].corr(a['Discount_offered'])\n",
        "print(f\"Correlation between Weight and Discount: {correlation}\")"
      ],
      "metadata": {
        "colab": {
          "base_uri": "https://localhost:8080/"
        },
        "id": "KVpnDjlK_yK-",
        "outputId": "e3ac38f8-cfca-46a9-9574-4d2c674ebfb3"
      },
      "execution_count": null,
      "outputs": [
        {
          "output_type": "stream",
          "name": "stdout",
          "text": [
            "Correlation between Weight and Discount: -0.37606671513805257\n"
          ]
        }
      ]
    },
    {
      "cell_type": "code",
      "source": [
        "late_shipment_rate = 1 - a.groupby('Warehouse_block')['Reached.on.Time_Y.N'].mean()\n",
        "print(late_shipment_rate.sort_values(ascending=False))"
      ],
      "metadata": {
        "colab": {
          "base_uri": "https://localhost:8080/"
        },
        "id": "78JT-zyu_-yR",
        "outputId": "d0d81848-c195-483a-c144-21d3f6b51c56"
      },
      "execution_count": null,
      "outputs": [
        {
          "output_type": "stream",
          "name": "stdout",
          "text": [
            "Warehouse_block\n",
            "A    0.413530\n",
            "C    0.403164\n",
            "D    0.402399\n",
            "F    0.401528\n",
            "B    0.397709\n",
            "Name: Reached.on.Time_Y.N, dtype: float64\n"
          ]
        }
      ]
    },
    {
      "cell_type": "code",
      "source": [
        "a['High_Discount'] = a['Discount_offered'] > 10\n",
        "\n",
        "discount_effect = a.groupby('High_Discount')['Reached.on.Time_Y.N'].mean()\n",
        "print(discount_effect)"
      ],
      "metadata": {
        "colab": {
          "base_uri": "https://localhost:8080/"
        },
        "id": "h2na6ZazAGv_",
        "outputId": "a45f0bce-4e45-4ea9-fb00-7fe4588ff2b2"
      },
      "execution_count": null,
      "outputs": [
        {
          "output_type": "stream",
          "name": "stdout",
          "text": [
            "High_Discount\n",
            "False    0.46887\n",
            "True     1.00000\n",
            "Name: Reached.on.Time_Y.N, dtype: float64\n"
          ]
        }
      ]
    },
    {
      "cell_type": "code",
      "source": [
        "loyalty_service_level = a.groupby('Prior_purchases')['Reached.on.Time_Y.N'].mean().sort_index()\n",
        "print(loyalty_service_level)\n"
      ],
      "metadata": {
        "colab": {
          "base_uri": "https://localhost:8080/"
        },
        "id": "DY8IfTAZATUt",
        "outputId": "14caf5ea-e1e9-43d8-9811-aac704a0ca9e"
      },
      "execution_count": null,
      "outputs": [
        {
          "output_type": "stream",
          "name": "stdout",
          "text": [
            "Prior_purchases\n",
            "2     0.625240\n",
            "3     0.640708\n",
            "4     0.543387\n",
            "5     0.498834\n",
            "6     0.559715\n",
            "7     0.676471\n",
            "8     0.648438\n",
            "10    0.573034\n",
            "Name: Reached.on.Time_Y.N, dtype: float64\n"
          ]
        }
      ]
    },
    {
      "cell_type": "code",
      "source": [
        "p = a.groupby('Gender').agg(\n",
        "    Average_Cost=('Cost_of_the_Product', 'mean'),\n",
        "    Average_Discount=('Discount_offered', 'mean')\n",
        ")\n",
        "print(p)"
      ],
      "metadata": {
        "colab": {
          "base_uri": "https://localhost:8080/"
        },
        "id": "LoDvcF-WAbBp",
        "outputId": "ffae6107-3969-45bc-dc32-cdfa5834a085"
      },
      "execution_count": null,
      "outputs": [
        {
          "output_type": "stream",
          "name": "stdout",
          "text": [
            "        Average_Cost  Average_Discount\n",
            "Gender                                \n",
            "F         209.255005         13.562489\n",
            "M         211.154382         13.180785\n"
          ]
        }
      ]
    },
    {
      "cell_type": "code",
      "source": [
        "s = [0, 2000, 5000, float('inf')]\n",
        "l = ['Light (<2kg)', 'Medium (2-5kg)', 'Heavy (>5kg)']\n",
        "a['Weight_Category'] = pd.cut(a['Weight_in_gms'], bins=s, labels=l, right=False)\n",
        "\n",
        "w= a.groupby('Weight_Category')['Reached.on.Time_Y.N'].mean()\n",
        "print(w)"
      ],
      "metadata": {
        "colab": {
          "base_uri": "https://localhost:8080/"
        },
        "id": "BUaY-uwhAihF",
        "outputId": "2fccb102-38d7-4ee6-9430-177039fd62e6"
      },
      "execution_count": null,
      "outputs": [
        {
          "output_type": "stream",
          "name": "stdout",
          "text": [
            "Weight_Category\n",
            "Light (<2kg)      0.677877\n",
            "Medium (2-5kg)    0.643709\n",
            "Heavy (>5kg)      0.426745\n",
            "Name: Reached.on.Time_Y.N, dtype: float64\n"
          ]
        },
        {
          "output_type": "stream",
          "name": "stderr",
          "text": [
            "/tmp/ipython-input-1460555506.py:5: FutureWarning: The default of observed=False is deprecated and will be changed to True in a future version of pandas. Pass observed=False to retain current behavior or observed=True to adopt the future default and silence this warning.\n",
            "  w= a.groupby('Weight_Category')['Reached.on.Time_Y.N'].mean()\n"
          ]
        }
      ]
    },
    {
      "cell_type": "code",
      "source": [
        "a['Cost_Quartile'] = pd.qcut(a['Cost_of_the_Product'], q=4, labels=['Q1_Lowest', 'Q2', 'Q3', 'Q4_Highest'])\n",
        "\n",
        "value_priority = a.groupby('Cost_Quartile')['Reached.on.Time_Y.N'].mean()\n",
        "print(value_priority)"
      ],
      "metadata": {
        "colab": {
          "base_uri": "https://localhost:8080/"
        },
        "id": "leTp0u0wBliS",
        "outputId": "685ef5ad-f5c4-40fc-f4d3-31708cf2b3a1"
      },
      "execution_count": null,
      "outputs": [
        {
          "output_type": "stream",
          "name": "stdout",
          "text": [
            "Cost_Quartile\n",
            "Q1_Lowest     0.643402\n",
            "Q2            0.611534\n",
            "Q3            0.575465\n",
            "Q4_Highest    0.555844\n",
            "Name: Reached.on.Time_Y.N, dtype: float64\n"
          ]
        },
        {
          "output_type": "stream",
          "name": "stderr",
          "text": [
            "/tmp/ipython-input-605818425.py:3: FutureWarning: The default of observed=False is deprecated and will be changed to True in a future version of pandas. Pass observed=False to retain current behavior or observed=True to adopt the future default and silence this warning.\n",
            "  value_priority = a.groupby('Cost_Quartile')['Reached.on.Time_Y.N'].mean()\n"
          ]
        }
      ]
    },
    {
      "cell_type": "markdown",
      "source": [
        "Average customer rating per"
      ],
      "metadata": {
        "id": "wopawbR2_6I1"
      }
    },
    {
      "cell_type": "code",
      "source": [
        "a.groupby(['Warehouse_block', 'Mode_of_Shipment'])['Cost_of_the_Product'].mean()"
      ],
      "metadata": {
        "colab": {
          "base_uri": "https://localhost:8080/",
          "height": 586
        },
        "id": "ml_oYAhK_T5I",
        "outputId": "33e32465-40d3-49dd-bd8e-18da9c34f95f"
      },
      "execution_count": null,
      "outputs": [
        {
          "output_type": "execute_result",
          "data": {
            "text/plain": [
              "Warehouse_block  Mode_of_Shipment\n",
              "A                Flight              210.037037\n",
              "                 Road                207.268707\n",
              "                 Ship                208.818841\n",
              "B                Flight              210.945946\n",
              "                 Road                213.312925\n",
              "                 Ship                212.175382\n",
              "C                Flight              210.532203\n",
              "                 Road                210.938776\n",
              "                 Ship                211.407556\n",
              "D                Flight              210.703704\n",
              "                 Road                209.116438\n",
              "                 Ship                211.376707\n",
              "F                Flight              206.809122\n",
              "                 Road                211.105802\n",
              "                 Ship                209.139068\n",
              "Name: Cost_of_the_Product, dtype: float64"
            ],
            "text/html": [
              "<div>\n",
              "<style scoped>\n",
              "    .dataframe tbody tr th:only-of-type {\n",
              "        vertical-align: middle;\n",
              "    }\n",
              "\n",
              "    .dataframe tbody tr th {\n",
              "        vertical-align: top;\n",
              "    }\n",
              "\n",
              "    .dataframe thead th {\n",
              "        text-align: right;\n",
              "    }\n",
              "</style>\n",
              "<table border=\"1\" class=\"dataframe\">\n",
              "  <thead>\n",
              "    <tr style=\"text-align: right;\">\n",
              "      <th></th>\n",
              "      <th></th>\n",
              "      <th>Cost_of_the_Product</th>\n",
              "    </tr>\n",
              "    <tr>\n",
              "      <th>Warehouse_block</th>\n",
              "      <th>Mode_of_Shipment</th>\n",
              "      <th></th>\n",
              "    </tr>\n",
              "  </thead>\n",
              "  <tbody>\n",
              "    <tr>\n",
              "      <th rowspan=\"3\" valign=\"top\">A</th>\n",
              "      <th>Flight</th>\n",
              "      <td>210.037037</td>\n",
              "    </tr>\n",
              "    <tr>\n",
              "      <th>Road</th>\n",
              "      <td>207.268707</td>\n",
              "    </tr>\n",
              "    <tr>\n",
              "      <th>Ship</th>\n",
              "      <td>208.818841</td>\n",
              "    </tr>\n",
              "    <tr>\n",
              "      <th rowspan=\"3\" valign=\"top\">B</th>\n",
              "      <th>Flight</th>\n",
              "      <td>210.945946</td>\n",
              "    </tr>\n",
              "    <tr>\n",
              "      <th>Road</th>\n",
              "      <td>213.312925</td>\n",
              "    </tr>\n",
              "    <tr>\n",
              "      <th>Ship</th>\n",
              "      <td>212.175382</td>\n",
              "    </tr>\n",
              "    <tr>\n",
              "      <th rowspan=\"3\" valign=\"top\">C</th>\n",
              "      <th>Flight</th>\n",
              "      <td>210.532203</td>\n",
              "    </tr>\n",
              "    <tr>\n",
              "      <th>Road</th>\n",
              "      <td>210.938776</td>\n",
              "    </tr>\n",
              "    <tr>\n",
              "      <th>Ship</th>\n",
              "      <td>211.407556</td>\n",
              "    </tr>\n",
              "    <tr>\n",
              "      <th rowspan=\"3\" valign=\"top\">D</th>\n",
              "      <th>Flight</th>\n",
              "      <td>210.703704</td>\n",
              "    </tr>\n",
              "    <tr>\n",
              "      <th>Road</th>\n",
              "      <td>209.116438</td>\n",
              "    </tr>\n",
              "    <tr>\n",
              "      <th>Ship</th>\n",
              "      <td>211.376707</td>\n",
              "    </tr>\n",
              "    <tr>\n",
              "      <th rowspan=\"3\" valign=\"top\">F</th>\n",
              "      <th>Flight</th>\n",
              "      <td>206.809122</td>\n",
              "    </tr>\n",
              "    <tr>\n",
              "      <th>Road</th>\n",
              "      <td>211.105802</td>\n",
              "    </tr>\n",
              "    <tr>\n",
              "      <th>Ship</th>\n",
              "      <td>209.139068</td>\n",
              "    </tr>\n",
              "  </tbody>\n",
              "</table>\n",
              "</div><br><label><b>dtype:</b> float64</label>"
            ]
          },
          "metadata": {},
          "execution_count": 14
        }
      ]
    },
    {
      "cell_type": "code",
      "source": [
        "a[\"Reached.on.Time_Y.N\"].value_counts()"
      ],
      "metadata": {
        "colab": {
          "base_uri": "https://localhost:8080/",
          "height": 178
        },
        "id": "DHaxAM1h_h1O",
        "outputId": "6e8c030e-b4fb-4dbe-c6b4-df2f7bde1b28"
      },
      "execution_count": null,
      "outputs": [
        {
          "output_type": "execute_result",
          "data": {
            "text/plain": [
              "Reached.on.Time_Y.N\n",
              "1    6563\n",
              "0    4436\n",
              "Name: count, dtype: int64"
            ],
            "text/html": [
              "<div>\n",
              "<style scoped>\n",
              "    .dataframe tbody tr th:only-of-type {\n",
              "        vertical-align: middle;\n",
              "    }\n",
              "\n",
              "    .dataframe tbody tr th {\n",
              "        vertical-align: top;\n",
              "    }\n",
              "\n",
              "    .dataframe thead th {\n",
              "        text-align: right;\n",
              "    }\n",
              "</style>\n",
              "<table border=\"1\" class=\"dataframe\">\n",
              "  <thead>\n",
              "    <tr style=\"text-align: right;\">\n",
              "      <th></th>\n",
              "      <th>count</th>\n",
              "    </tr>\n",
              "    <tr>\n",
              "      <th>Reached.on.Time_Y.N</th>\n",
              "      <th></th>\n",
              "    </tr>\n",
              "  </thead>\n",
              "  <tbody>\n",
              "    <tr>\n",
              "      <th>1</th>\n",
              "      <td>6563</td>\n",
              "    </tr>\n",
              "    <tr>\n",
              "      <th>0</th>\n",
              "      <td>4436</td>\n",
              "    </tr>\n",
              "  </tbody>\n",
              "</table>\n",
              "</div><br><label><b>dtype:</b> int64</label>"
            ]
          },
          "metadata": {},
          "execution_count": 16
        }
      ]
    },
    {
      "cell_type": "code",
      "source": [
        "a.nlargest(5,\"Weight_in_gms\").head(5)[\"ID\"]"
      ],
      "metadata": {
        "colab": {
          "base_uri": "https://localhost:8080/",
          "height": 241
        },
        "id": "GrW3pOy9AhGh",
        "outputId": "afc27ccc-5bce-4876-a82c-92ca0621f028"
      },
      "execution_count": null,
      "outputs": [
        {
          "output_type": "execute_result",
          "data": {
            "text/plain": [
              "199    200\n",
              "245    246\n",
              "198    199\n",
              "205    206\n",
              "213    214\n",
              "Name: ID, dtype: int64"
            ],
            "text/html": [
              "<div>\n",
              "<style scoped>\n",
              "    .dataframe tbody tr th:only-of-type {\n",
              "        vertical-align: middle;\n",
              "    }\n",
              "\n",
              "    .dataframe tbody tr th {\n",
              "        vertical-align: top;\n",
              "    }\n",
              "\n",
              "    .dataframe thead th {\n",
              "        text-align: right;\n",
              "    }\n",
              "</style>\n",
              "<table border=\"1\" class=\"dataframe\">\n",
              "  <thead>\n",
              "    <tr style=\"text-align: right;\">\n",
              "      <th></th>\n",
              "      <th>ID</th>\n",
              "    </tr>\n",
              "  </thead>\n",
              "  <tbody>\n",
              "    <tr>\n",
              "      <th>199</th>\n",
              "      <td>200</td>\n",
              "    </tr>\n",
              "    <tr>\n",
              "      <th>245</th>\n",
              "      <td>246</td>\n",
              "    </tr>\n",
              "    <tr>\n",
              "      <th>198</th>\n",
              "      <td>199</td>\n",
              "    </tr>\n",
              "    <tr>\n",
              "      <th>205</th>\n",
              "      <td>206</td>\n",
              "    </tr>\n",
              "    <tr>\n",
              "      <th>213</th>\n",
              "      <td>214</td>\n",
              "    </tr>\n",
              "  </tbody>\n",
              "</table>\n",
              "</div><br><label><b>dtype:</b> int64</label>"
            ]
          },
          "metadata": {},
          "execution_count": 18
        }
      ]
    },
    {
      "cell_type": "code",
      "source": [
        "a.groupby(\"Product_importance\").size()\n",
        "a['Product_importance'].value_counts()"
      ],
      "metadata": {
        "colab": {
          "base_uri": "https://localhost:8080/",
          "height": 210
        },
        "id": "XhqyIIEYC9ZW",
        "outputId": "f77b4a2d-b1aa-49b4-a6ce-bd91fa27f090"
      },
      "execution_count": null,
      "outputs": [
        {
          "output_type": "execute_result",
          "data": {
            "text/plain": [
              "Product_importance\n",
              "low       5297\n",
              "medium    4754\n",
              "high       948\n",
              "Name: count, dtype: int64"
            ],
            "text/html": [
              "<div>\n",
              "<style scoped>\n",
              "    .dataframe tbody tr th:only-of-type {\n",
              "        vertical-align: middle;\n",
              "    }\n",
              "\n",
              "    .dataframe tbody tr th {\n",
              "        vertical-align: top;\n",
              "    }\n",
              "\n",
              "    .dataframe thead th {\n",
              "        text-align: right;\n",
              "    }\n",
              "</style>\n",
              "<table border=\"1\" class=\"dataframe\">\n",
              "  <thead>\n",
              "    <tr style=\"text-align: right;\">\n",
              "      <th></th>\n",
              "      <th>count</th>\n",
              "    </tr>\n",
              "    <tr>\n",
              "      <th>Product_importance</th>\n",
              "      <th></th>\n",
              "    </tr>\n",
              "  </thead>\n",
              "  <tbody>\n",
              "    <tr>\n",
              "      <th>low</th>\n",
              "      <td>5297</td>\n",
              "    </tr>\n",
              "    <tr>\n",
              "      <th>medium</th>\n",
              "      <td>4754</td>\n",
              "    </tr>\n",
              "    <tr>\n",
              "      <th>high</th>\n",
              "      <td>948</td>\n",
              "    </tr>\n",
              "  </tbody>\n",
              "</table>\n",
              "</div><br><label><b>dtype:</b> int64</label>"
            ]
          },
          "metadata": {},
          "execution_count": 32
        }
      ]
    },
    {
      "cell_type": "code",
      "source": [
        "A=a.groupby(\"Gender\")['Discount_offered'].mean()\n",
        "A.sort_values(ascending=False).head(1)"
      ],
      "metadata": {
        "colab": {
          "base_uri": "https://localhost:8080/",
          "height": 147
        },
        "id": "Ihf082FxCP_1",
        "outputId": "fb7570ac-c700-48ac-b863-40feafbe5863"
      },
      "execution_count": null,
      "outputs": [
        {
          "output_type": "execute_result",
          "data": {
            "text/plain": [
              "Gender\n",
              "F    13.562489\n",
              "Name: Discount_offered, dtype: float64"
            ],
            "text/html": [
              "<div>\n",
              "<style scoped>\n",
              "    .dataframe tbody tr th:only-of-type {\n",
              "        vertical-align: middle;\n",
              "    }\n",
              "\n",
              "    .dataframe tbody tr th {\n",
              "        vertical-align: top;\n",
              "    }\n",
              "\n",
              "    .dataframe thead th {\n",
              "        text-align: right;\n",
              "    }\n",
              "</style>\n",
              "<table border=\"1\" class=\"dataframe\">\n",
              "  <thead>\n",
              "    <tr style=\"text-align: right;\">\n",
              "      <th></th>\n",
              "      <th>Discount_offered</th>\n",
              "    </tr>\n",
              "    <tr>\n",
              "      <th>Gender</th>\n",
              "      <th></th>\n",
              "    </tr>\n",
              "  </thead>\n",
              "  <tbody>\n",
              "    <tr>\n",
              "      <th>F</th>\n",
              "      <td>13.562489</td>\n",
              "    </tr>\n",
              "  </tbody>\n",
              "</table>\n",
              "</div><br><label><b>dtype:</b> float64</label>"
            ]
          },
          "metadata": {},
          "execution_count": 28
        }
      ]
    },
    {
      "cell_type": "code",
      "source": [
        "b=a.groupby(['Product_importance','Warehouse_block'])['Cost_of_the_Product'].mean()\n",
        "print(b)"
      ],
      "metadata": {
        "colab": {
          "base_uri": "https://localhost:8080/"
        },
        "id": "mLh-XvHiA7vN",
        "outputId": "f9c8420a-269d-4337-ca20-7b16dd4501bc"
      },
      "execution_count": null,
      "outputs": [
        {
          "output_type": "stream",
          "name": "stdout",
          "text": [
            "Product_importance  Warehouse_block\n",
            "high                A                  204.357576\n",
            "                    B                  199.390411\n",
            "                    C                  198.803571\n",
            "                    D                  212.222892\n",
            "                    F                  204.000000\n",
            "low                 A                  209.801980\n",
            "                    B                  214.409357\n",
            "                    C                  214.636156\n",
            "                    D                  211.915062\n",
            "                    F                  210.888514\n",
            "medium              A                  208.487484\n",
            "                    B                  212.087740\n",
            "                    C                  210.016435\n",
            "                    D                  209.496815\n",
            "                    F                  208.019534\n",
            "Name: Cost_of_the_Product, dtype: float64\n"
          ]
        }
      ]
    },
    {
      "cell_type": "code",
      "source": [
        "a.groupby('Customer_rating')['Reached.on.Time_Y.N'].mean()*10000"
      ],
      "metadata": {
        "colab": {
          "base_uri": "https://localhost:8080/",
          "height": 272
        },
        "id": "pAkmPdCZBVfG",
        "outputId": "ed841572-5fb4-4568-c626-c602b4fc0a00"
      },
      "execution_count": null,
      "outputs": [
        {
          "output_type": "execute_result",
          "data": {
            "text/plain": [
              "Customer_rating\n",
              "1    5874.720358\n",
              "2    5879.907621\n",
              "3    6060.741402\n",
              "4    5952.489721\n",
              "5    6066.328881\n",
              "Name: Reached.on.Time_Y.N, dtype: float64"
            ],
            "text/html": [
              "<div>\n",
              "<style scoped>\n",
              "    .dataframe tbody tr th:only-of-type {\n",
              "        vertical-align: middle;\n",
              "    }\n",
              "\n",
              "    .dataframe tbody tr th {\n",
              "        vertical-align: top;\n",
              "    }\n",
              "\n",
              "    .dataframe thead th {\n",
              "        text-align: right;\n",
              "    }\n",
              "</style>\n",
              "<table border=\"1\" class=\"dataframe\">\n",
              "  <thead>\n",
              "    <tr style=\"text-align: right;\">\n",
              "      <th></th>\n",
              "      <th>Reached.on.Time_Y.N</th>\n",
              "    </tr>\n",
              "    <tr>\n",
              "      <th>Customer_rating</th>\n",
              "      <th></th>\n",
              "    </tr>\n",
              "  </thead>\n",
              "  <tbody>\n",
              "    <tr>\n",
              "      <th>1</th>\n",
              "      <td>5874.720358</td>\n",
              "    </tr>\n",
              "    <tr>\n",
              "      <th>2</th>\n",
              "      <td>5879.907621</td>\n",
              "    </tr>\n",
              "    <tr>\n",
              "      <th>3</th>\n",
              "      <td>6060.741402</td>\n",
              "    </tr>\n",
              "    <tr>\n",
              "      <th>4</th>\n",
              "      <td>5952.489721</td>\n",
              "    </tr>\n",
              "    <tr>\n",
              "      <th>5</th>\n",
              "      <td>6066.328881</td>\n",
              "    </tr>\n",
              "  </tbody>\n",
              "</table>\n",
              "</div><br><label><b>dtype:</b> float64</label>"
            ]
          },
          "metadata": {},
          "execution_count": 37
        }
      ]
    },
    {
      "cell_type": "code",
      "source": [],
      "metadata": {
        "id": "agBH3IziEQeT"
      },
      "execution_count": null,
      "outputs": []
    }
  ]
}